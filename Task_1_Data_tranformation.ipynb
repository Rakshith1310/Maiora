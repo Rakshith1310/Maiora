{
 "cells": [
  {
   "cell_type": "markdown",
   "id": "26528c9f-86cd-4b5e-81e3-87e2c6a54ba9",
   "metadata": {},
   "source": [
    "### Performing tasks according to the business rules"
   ]
  },
  {
   "cell_type": "code",
   "execution_count": 98,
   "id": "d8308cc1-7084-4421-9aff-e6850369479d",
   "metadata": {},
   "outputs": [],
   "source": [
    "import pandas as pd\n",
    "import numpy as np\n",
    "import sqlite3\n",
    "import csv\n",
    "import json\n",
    "from sqlalchemy import create_engine"
   ]
  },
  {
   "cell_type": "code",
   "execution_count": 81,
   "id": "901ea666-d73f-4ec0-9603-f0d037d795b5",
   "metadata": {},
   "outputs": [],
   "source": [
    "# Reading the data and converting it to dataFrame\n",
    "dfa = pd.read_csv(r\"C:\\Users\\rrak\\Downloads\\order_region_a.csv\")\n",
    "dfb = pd.read_csv(r\"C:\\Users\\rrak\\Downloads\\order_region_b.csv\")"
   ]
  },
  {
   "cell_type": "code",
   "execution_count": 82,
   "id": "90d7b690-24fc-46ae-a793-3706c36d76cb",
   "metadata": {},
   "outputs": [],
   "source": [
    "# 1. Combine the data from both regions into a single dataframe.\n",
    "combined_data = pd.concat([dfa, dfb])"
   ]
  },
  {
   "cell_type": "code",
   "execution_count": 22,
   "id": "412ac4d3-4eb3-43c0-90bc-e0a8cca5185f",
   "metadata": {},
   "outputs": [
    {
     "data": {
      "text/plain": [
       "Index(['OrderId', 'OrderItemId', 'QuantityOrdered', 'ItemPrice',\n",
       "       'PromotionDiscount', 'batch_id'],\n",
       "      dtype='object')"
      ]
     },
     "execution_count": 22,
     "metadata": {},
     "output_type": "execute_result"
    }
   ],
   "source": [
    "combined_data.columns"
   ]
  },
  {
   "cell_type": "code",
   "execution_count": 83,
   "id": "77d3be5e-cf20-4d4c-83b6-4c639306a36c",
   "metadata": {},
   "outputs": [],
   "source": [
    "# 2. Add a column total_sales which is calculated as QuantityOrdered * ItemPrice.\n",
    "combined_data[\"total_sales\"] = combined_data[\"QuantityOrdered\"] * combined_data[\"ItemPrice\"]"
   ]
  },
  {
   "cell_type": "code",
   "execution_count": 85,
   "id": "79f5f781-f89a-4ec5-9a23-ed064df540c6",
   "metadata": {},
   "outputs": [],
   "source": [
    "# 3. Add a column region to identify the region of the sales record (A or B).\n",
    "midpoint = (len(combined_data) // 2) + 1\n",
    "combined_data[\"region\"] = ['A'] * midpoint + ['B'] *(len(combined_data) - midpoint)"
   ]
  },
  {
   "cell_type": "code",
   "execution_count": 86,
   "id": "5b73c398-68c1-45b4-89fd-8fc93a01fbcb",
   "metadata": {},
   "outputs": [],
   "source": [
    "def extract_amount(value):\n",
    "    if isinstance(value, str):  # Convert JSON string to dict\n",
    "        try:\n",
    "            value = json.loads(value)\n",
    "        except json.JSONDecodeError:\n",
    "            return 0  # Default value in case of error\n",
    "    return float(value.get(\"Amount\", 0))  # Extract \"Amount\"\n",
    "\n",
    "combined_data['DiscountAmount'] = combined_data['PromotionDiscount'].apply(extract_amount)"
   ]
  },
  {
   "cell_type": "code",
   "execution_count": 101,
   "id": "3d7514ed-796f-4e26-a748-47236346ecd7",
   "metadata": {},
   "outputs": [],
   "source": [
    "# 4. Dropping dupliactes\n",
    "combined_data = combined_data.drop_duplicates(subset=['OrderId'])"
   ]
  },
  {
   "cell_type": "code",
   "execution_count": 102,
   "id": "78315326-4b21-4bf0-882b-c1ec9015b3d9",
   "metadata": {},
   "outputs": [
    {
     "name": "stderr",
     "output_type": "stream",
     "text": [
      "C:\\Users\\rrak\\AppData\\Local\\Temp\\ipykernel_40036\\397335015.py:2: SettingWithCopyWarning: \n",
      "A value is trying to be set on a copy of a slice from a DataFrame.\n",
      "Try using .loc[row_indexer,col_indexer] = value instead\n",
      "\n",
      "See the caveats in the documentation: https://pandas.pydata.org/pandas-docs/stable/user_guide/indexing.html#returning-a-view-versus-a-copy\n",
      "  combined_data['net_sale'] = combined_data['total_sales'] - combined_data['DiscountAmount']\n"
     ]
    }
   ],
   "source": [
    "# 5. Add a new column net_sale, calculated as total_sales - PromotionDiscount.\n",
    "combined_data['net_sale'] = combined_data['total_sales'] - combined_data['DiscountAmount']"
   ]
  },
  {
   "cell_type": "code",
   "execution_count": 103,
   "id": "4539536e-9077-44d5-b0a5-987277dfc9b3",
   "metadata": {},
   "outputs": [],
   "source": [
    "# 6. Exclude orders where the total sales amount is negative or zero after applying discounts.\n",
    "net_sales_above_zero = combined_data.loc[combined_data[\"total_sales\"] <= 0]"
   ]
  },
  {
   "cell_type": "code",
   "execution_count": 104,
   "id": "85aa1d1e-d6d3-49c9-9ffd-d9af23493654",
   "metadata": {},
   "outputs": [],
   "source": [
    "# Dropping the extra column\n",
    "data = net_sales_above_zero.drop(columns=['DiscountAmount'])"
   ]
  },
  {
   "cell_type": "code",
   "execution_count": 105,
   "id": "6b0cf4a7-b107-4270-b2c3-694f5f07f21d",
   "metadata": {},
   "outputs": [],
   "source": [
    "engine = create_engine(\"sqlite:///combined_region_database.db\")"
   ]
  },
  {
   "cell_type": "code",
   "execution_count": 106,
   "id": "440ec07a-5014-44f0-8689-fbd1d96542c5",
   "metadata": {},
   "outputs": [
    {
     "data": {
      "text/plain": [
       "55"
      ]
     },
     "execution_count": 106,
     "metadata": {},
     "output_type": "execute_result"
    }
   ],
   "source": [
    "data.to_sql(\"combined_region_database\", con=engine, if_exists=\"replace\", index=False)"
   ]
  },
  {
   "cell_type": "markdown",
   "id": "367ed67d-9965-4dc1-9df6-9b9dcd3300e0",
   "metadata": {},
   "source": [
    "### SQL Queries"
   ]
  },
  {
   "cell_type": "code",
   "execution_count": null,
   "id": "ee2397bc-86bb-4a42-9cc0-60c215b84cca",
   "metadata": {},
   "outputs": [],
   "source": [
    "# 1. Count the total number of records.\n",
    "select count(OrderId) \n",
    "from combined_region_database"
   ]
  },
  {
   "cell_type": "code",
   "execution_count": null,
   "id": "efe9942d-84a2-4973-a571-4231ff5883e7",
   "metadata": {},
   "outputs": [],
   "source": [
    "# 2. Find the total sales amount by region.\n",
    "select sum(net_sales)\n",
    "from combined_region_database\n",
    "group by region"
   ]
  },
  {
   "cell_type": "code",
   "execution_count": null,
   "id": "3c950ac7-326c-4893-b263-1bba3a54e681",
   "metadata": {},
   "outputs": [],
   "source": [
    "# 3. Find the average sales amount per transaction.\n",
    "select avg(net_sales) \n",
    "from combined_region_database"
   ]
  },
  {
   "cell_type": "code",
   "execution_count": null,
   "id": "5ac562f9-a4ec-4aad-a762-a90a2ff2efd6",
   "metadata": {},
   "outputs": [],
   "source": [
    "# 4. Ensure there are no duplicate OrderId values.\n",
    "ALTER TABLE combined_region_database ADD CONSTRAINT unique_order UNIQUE (OrderId);"
   ]
  },
  {
   "cell_type": "code",
   "execution_count": null,
   "id": "79e6ff95-8134-4ac0-86aa-7cdacfaa42c6",
   "metadata": {},
   "outputs": [],
   "source": [
    "DELETE FROM combined_region_database\n",
    "WHERE OrderId IN (\n",
    "    SELECT rowid FROM (\n",
    "        SELECT rowid, \n",
    "               ROW_NUMBER() OVER (PARTITION BY OrderId ORDER BY OrderId DESC) AS row_num\n",
    "        FROM sales_data\n",
    "    ) t\n",
    "    WHERE row_num > 1\n",
    ");\n",
    "\n"
   ]
  },
  {
   "cell_type": "code",
   "execution_count": null,
   "id": "94694f40-cab9-482b-9917-049511214c65",
   "metadata": {},
   "outputs": [],
   "source": []
  }
 ],
 "metadata": {
  "kernelspec": {
   "display_name": "Python 3 (ipykernel)",
   "language": "python",
   "name": "python3"
  },
  "language_info": {
   "codemirror_mode": {
    "name": "ipython",
    "version": 3
   },
   "file_extension": ".py",
   "mimetype": "text/x-python",
   "name": "python",
   "nbconvert_exporter": "python",
   "pygments_lexer": "ipython3",
   "version": "3.11.7"
  }
 },
 "nbformat": 4,
 "nbformat_minor": 5
}
